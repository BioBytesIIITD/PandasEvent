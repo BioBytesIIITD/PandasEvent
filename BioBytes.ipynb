{
 "cells": [
  {
   "cell_type": "markdown",
   "metadata": {},
   "source": [
    "### BioBytes"
   ]
  },
  {
   "cell_type": "markdown",
   "metadata": {},
   "source": [
    "### Importing the Library, Checking Version and Aliasing it"
   ]
  },
  {
   "cell_type": "code",
   "execution_count": 1,
   "metadata": {},
   "outputs": [],
   "source": [
    "import pandas as pd"
   ]
  },
  {
   "cell_type": "code",
   "execution_count": 2,
   "metadata": {},
   "outputs": [
    {
     "data": {
      "text/plain": [
       "'1.1.3'"
      ]
     },
     "execution_count": 2,
     "metadata": {},
     "output_type": "execute_result"
    }
   ],
   "source": [
    "pd.__version__"
   ]
  },
  {
   "cell_type": "markdown",
   "metadata": {},
   "source": [
    "Knowing Version is important at times as you might find a solution for your problem on stackoverflow but it might be for a different version"
   ]
  },
  {
   "cell_type": "markdown",
   "metadata": {},
   "source": [
    "### Reading CSV and other types of files"
   ]
  },
  {
   "cell_type": "code",
   "execution_count": 3,
   "metadata": {},
   "outputs": [],
   "source": [
    "df = pd.read_csv('cooldata/csvdata.csv')"
   ]
  },
  {
   "cell_type": "code",
   "execution_count": 4,
   "metadata": {},
   "outputs": [
    {
     "data": {
      "text/html": [
       "<div>\n",
       "<style scoped>\n",
       "    .dataframe tbody tr th:only-of-type {\n",
       "        vertical-align: middle;\n",
       "    }\n",
       "\n",
       "    .dataframe tbody tr th {\n",
       "        vertical-align: top;\n",
       "    }\n",
       "\n",
       "    .dataframe thead th {\n",
       "        text-align: right;\n",
       "    }\n",
       "</style>\n",
       "<table border=\"1\" class=\"dataframe\">\n",
       "  <thead>\n",
       "    <tr style=\"text-align: right;\">\n",
       "      <th></th>\n",
       "      <th>DATE</th>\n",
       "      <th>INVCMRMT</th>\n",
       "    </tr>\n",
       "  </thead>\n",
       "  <tbody>\n",
       "    <tr>\n",
       "      <th>0</th>\n",
       "      <td>1997-01-01</td>\n",
       "      <td>1301161.0</td>\n",
       "    </tr>\n",
       "    <tr>\n",
       "      <th>1</th>\n",
       "      <td>1997-02-01</td>\n",
       "      <td>1307080.0</td>\n",
       "    </tr>\n",
       "    <tr>\n",
       "      <th>2</th>\n",
       "      <td>1997-03-01</td>\n",
       "      <td>1303978.0</td>\n",
       "    </tr>\n",
       "    <tr>\n",
       "      <th>3</th>\n",
       "      <td>1997-04-01</td>\n",
       "      <td>1319740.0</td>\n",
       "    </tr>\n",
       "    <tr>\n",
       "      <th>4</th>\n",
       "      <td>1997-05-01</td>\n",
       "      <td>1327294.0</td>\n",
       "    </tr>\n",
       "    <tr>\n",
       "      <th>...</th>\n",
       "      <td>...</td>\n",
       "      <td>...</td>\n",
       "    </tr>\n",
       "    <tr>\n",
       "      <th>278</th>\n",
       "      <td>2020-03-01</td>\n",
       "      <td>2192351.0</td>\n",
       "    </tr>\n",
       "    <tr>\n",
       "      <th>279</th>\n",
       "      <td>2020-04-01</td>\n",
       "      <td>2178236.0</td>\n",
       "    </tr>\n",
       "    <tr>\n",
       "      <th>280</th>\n",
       "      <td>2020-05-01</td>\n",
       "      <td>2144828.0</td>\n",
       "    </tr>\n",
       "    <tr>\n",
       "      <th>281</th>\n",
       "      <td>2020-06-01</td>\n",
       "      <td>2125810.0</td>\n",
       "    </tr>\n",
       "    <tr>\n",
       "      <th>282</th>\n",
       "      <td>2020-07-01</td>\n",
       "      <td>2121991.0</td>\n",
       "    </tr>\n",
       "  </tbody>\n",
       "</table>\n",
       "<p>283 rows × 2 columns</p>\n",
       "</div>"
      ],
      "text/plain": [
       "           DATE   INVCMRMT\n",
       "0    1997-01-01  1301161.0\n",
       "1    1997-02-01  1307080.0\n",
       "2    1997-03-01  1303978.0\n",
       "3    1997-04-01  1319740.0\n",
       "4    1997-05-01  1327294.0\n",
       "..          ...        ...\n",
       "278  2020-03-01  2192351.0\n",
       "279  2020-04-01  2178236.0\n",
       "280  2020-05-01  2144828.0\n",
       "281  2020-06-01  2125810.0\n",
       "282  2020-07-01  2121991.0\n",
       "\n",
       "[283 rows x 2 columns]"
      ]
     },
     "execution_count": 4,
     "metadata": {},
     "output_type": "execute_result"
    }
   ],
   "source": [
    "df"
   ]
  },
  {
   "cell_type": "code",
   "execution_count": 5,
   "metadata": {},
   "outputs": [],
   "source": [
    "df2 = pd.read_excel('cooldata/exceldata.xlsx')"
   ]
  },
  {
   "cell_type": "code",
   "execution_count": 6,
   "metadata": {},
   "outputs": [
    {
     "data": {
      "text/html": [
       "<div>\n",
       "<style scoped>\n",
       "    .dataframe tbody tr th:only-of-type {\n",
       "        vertical-align: middle;\n",
       "    }\n",
       "\n",
       "    .dataframe tbody tr th {\n",
       "        vertical-align: top;\n",
       "    }\n",
       "\n",
       "    .dataframe thead th {\n",
       "        text-align: right;\n",
       "    }\n",
       "</style>\n",
       "<table border=\"1\" class=\"dataframe\">\n",
       "  <thead>\n",
       "    <tr style=\"text-align: right;\">\n",
       "      <th></th>\n",
       "      <th>Year</th>\n",
       "      <th>Stocks</th>\n",
       "      <th>T.Bills</th>\n",
       "      <th>T.Bonds</th>\n",
       "    </tr>\n",
       "  </thead>\n",
       "  <tbody>\n",
       "    <tr>\n",
       "      <th>0</th>\n",
       "      <td>1928</td>\n",
       "      <td>0.4381</td>\n",
       "      <td>0.0308</td>\n",
       "      <td>0.0084</td>\n",
       "    </tr>\n",
       "    <tr>\n",
       "      <th>1</th>\n",
       "      <td>1929</td>\n",
       "      <td>-0.083</td>\n",
       "      <td>0.0316</td>\n",
       "      <td>0.042</td>\n",
       "    </tr>\n",
       "    <tr>\n",
       "      <th>2</th>\n",
       "      <td>1930</td>\n",
       "      <td>-0.2512</td>\n",
       "      <td>0.0455</td>\n",
       "      <td>0.0454</td>\n",
       "    </tr>\n",
       "    <tr>\n",
       "      <th>3</th>\n",
       "      <td>1931</td>\n",
       "      <td>-0.4384</td>\n",
       "      <td>0.0231</td>\n",
       "      <td>-0.0256</td>\n",
       "    </tr>\n",
       "    <tr>\n",
       "      <th>4</th>\n",
       "      <td>1932</td>\n",
       "      <td>-0.0864</td>\n",
       "      <td>0.0107</td>\n",
       "      <td>0.0879</td>\n",
       "    </tr>\n",
       "    <tr>\n",
       "      <th>...</th>\n",
       "      <td>...</td>\n",
       "      <td>...</td>\n",
       "      <td>...</td>\n",
       "      <td>...</td>\n",
       "    </tr>\n",
       "    <tr>\n",
       "      <th>79</th>\n",
       "      <td>2007</td>\n",
       "      <td>0.0549</td>\n",
       "      <td>0.0988</td>\n",
       "      <td>0.0466</td>\n",
       "    </tr>\n",
       "    <tr>\n",
       "      <th>80</th>\n",
       "      <td>2008</td>\n",
       "      <td>-0.37</td>\n",
       "      <td>0.2587</td>\n",
       "      <td>0.016</td>\n",
       "    </tr>\n",
       "    <tr>\n",
       "      <th>81</th>\n",
       "      <td>2009</td>\n",
       "      <td>0.2646</td>\n",
       "      <td>-0.149</td>\n",
       "      <td>0.001</td>\n",
       "    </tr>\n",
       "    <tr>\n",
       "      <th>82</th>\n",
       "      <td>NaN</td>\n",
       "      <td>stocks</td>\n",
       "      <td>tbills</td>\n",
       "      <td>bonds</td>\n",
       "    </tr>\n",
       "    <tr>\n",
       "      <th>83</th>\n",
       "      <td>averages</td>\n",
       "      <td>NaN</td>\n",
       "      <td>NaN</td>\n",
       "      <td>NaN</td>\n",
       "    </tr>\n",
       "  </tbody>\n",
       "</table>\n",
       "<p>84 rows × 4 columns</p>\n",
       "</div>"
      ],
      "text/plain": [
       "        Year  Stocks T.Bills T.Bonds\n",
       "0       1928  0.4381  0.0308  0.0084\n",
       "1       1929  -0.083  0.0316   0.042\n",
       "2       1930 -0.2512  0.0455  0.0454\n",
       "3       1931 -0.4384  0.0231 -0.0256\n",
       "4       1932 -0.0864  0.0107  0.0879\n",
       "..       ...     ...     ...     ...\n",
       "79      2007  0.0549  0.0988  0.0466\n",
       "80      2008   -0.37  0.2587   0.016\n",
       "81      2009  0.2646  -0.149   0.001\n",
       "82       NaN  stocks  tbills   bonds\n",
       "83  averages     NaN     NaN     NaN\n",
       "\n",
       "[84 rows x 4 columns]"
      ]
     },
     "execution_count": 6,
     "metadata": {},
     "output_type": "execute_result"
    }
   ],
   "source": [
    "df2"
   ]
  },
  {
   "cell_type": "code",
   "execution_count": 7,
   "metadata": {},
   "outputs": [],
   "source": [
    "df3 = pd.read_csv('cooldata/tsvdata.tsv', sep = '\\t') # We tell Pandas don't look for commas rather look for tab spaces"
   ]
  },
  {
   "cell_type": "code",
   "execution_count": 8,
   "metadata": {},
   "outputs": [
    {
     "data": {
      "text/html": [
       "<div>\n",
       "<style scoped>\n",
       "    .dataframe tbody tr th:only-of-type {\n",
       "        vertical-align: middle;\n",
       "    }\n",
       "\n",
       "    .dataframe tbody tr th {\n",
       "        vertical-align: top;\n",
       "    }\n",
       "\n",
       "    .dataframe thead th {\n",
       "        text-align: right;\n",
       "    }\n",
       "</style>\n",
       "<table border=\"1\" class=\"dataframe\">\n",
       "  <thead>\n",
       "    <tr style=\"text-align: right;\">\n",
       "      <th></th>\n",
       "      <th>country</th>\n",
       "      <th>continent</th>\n",
       "      <th>year</th>\n",
       "      <th>lifeExp</th>\n",
       "      <th>pop</th>\n",
       "      <th>gdpPercap</th>\n",
       "    </tr>\n",
       "  </thead>\n",
       "  <tbody>\n",
       "    <tr>\n",
       "      <th>0</th>\n",
       "      <td>Afghanistan</td>\n",
       "      <td>Asia</td>\n",
       "      <td>1952</td>\n",
       "      <td>28.801</td>\n",
       "      <td>8425333</td>\n",
       "      <td>779.445314</td>\n",
       "    </tr>\n",
       "    <tr>\n",
       "      <th>1</th>\n",
       "      <td>Afghanistan</td>\n",
       "      <td>Asia</td>\n",
       "      <td>1957</td>\n",
       "      <td>30.332</td>\n",
       "      <td>9240934</td>\n",
       "      <td>820.853030</td>\n",
       "    </tr>\n",
       "    <tr>\n",
       "      <th>2</th>\n",
       "      <td>Afghanistan</td>\n",
       "      <td>Asia</td>\n",
       "      <td>1962</td>\n",
       "      <td>31.997</td>\n",
       "      <td>10267083</td>\n",
       "      <td>853.100710</td>\n",
       "    </tr>\n",
       "    <tr>\n",
       "      <th>3</th>\n",
       "      <td>Afghanistan</td>\n",
       "      <td>Asia</td>\n",
       "      <td>1967</td>\n",
       "      <td>34.020</td>\n",
       "      <td>11537966</td>\n",
       "      <td>836.197138</td>\n",
       "    </tr>\n",
       "    <tr>\n",
       "      <th>4</th>\n",
       "      <td>Afghanistan</td>\n",
       "      <td>Asia</td>\n",
       "      <td>1972</td>\n",
       "      <td>36.088</td>\n",
       "      <td>13079460</td>\n",
       "      <td>739.981106</td>\n",
       "    </tr>\n",
       "    <tr>\n",
       "      <th>...</th>\n",
       "      <td>...</td>\n",
       "      <td>...</td>\n",
       "      <td>...</td>\n",
       "      <td>...</td>\n",
       "      <td>...</td>\n",
       "      <td>...</td>\n",
       "    </tr>\n",
       "    <tr>\n",
       "      <th>1699</th>\n",
       "      <td>Zimbabwe</td>\n",
       "      <td>Africa</td>\n",
       "      <td>1987</td>\n",
       "      <td>62.351</td>\n",
       "      <td>9216418</td>\n",
       "      <td>706.157306</td>\n",
       "    </tr>\n",
       "    <tr>\n",
       "      <th>1700</th>\n",
       "      <td>Zimbabwe</td>\n",
       "      <td>Africa</td>\n",
       "      <td>1992</td>\n",
       "      <td>60.377</td>\n",
       "      <td>10704340</td>\n",
       "      <td>693.420786</td>\n",
       "    </tr>\n",
       "    <tr>\n",
       "      <th>1701</th>\n",
       "      <td>Zimbabwe</td>\n",
       "      <td>Africa</td>\n",
       "      <td>1997</td>\n",
       "      <td>46.809</td>\n",
       "      <td>11404948</td>\n",
       "      <td>792.449960</td>\n",
       "    </tr>\n",
       "    <tr>\n",
       "      <th>1702</th>\n",
       "      <td>Zimbabwe</td>\n",
       "      <td>Africa</td>\n",
       "      <td>2002</td>\n",
       "      <td>39.989</td>\n",
       "      <td>11926563</td>\n",
       "      <td>672.038623</td>\n",
       "    </tr>\n",
       "    <tr>\n",
       "      <th>1703</th>\n",
       "      <td>Zimbabwe</td>\n",
       "      <td>Africa</td>\n",
       "      <td>2007</td>\n",
       "      <td>43.487</td>\n",
       "      <td>12311143</td>\n",
       "      <td>469.709298</td>\n",
       "    </tr>\n",
       "  </tbody>\n",
       "</table>\n",
       "<p>1704 rows × 6 columns</p>\n",
       "</div>"
      ],
      "text/plain": [
       "          country continent  year  lifeExp       pop   gdpPercap\n",
       "0     Afghanistan      Asia  1952   28.801   8425333  779.445314\n",
       "1     Afghanistan      Asia  1957   30.332   9240934  820.853030\n",
       "2     Afghanistan      Asia  1962   31.997  10267083  853.100710\n",
       "3     Afghanistan      Asia  1967   34.020  11537966  836.197138\n",
       "4     Afghanistan      Asia  1972   36.088  13079460  739.981106\n",
       "...           ...       ...   ...      ...       ...         ...\n",
       "1699     Zimbabwe    Africa  1987   62.351   9216418  706.157306\n",
       "1700     Zimbabwe    Africa  1992   60.377  10704340  693.420786\n",
       "1701     Zimbabwe    Africa  1997   46.809  11404948  792.449960\n",
       "1702     Zimbabwe    Africa  2002   39.989  11926563  672.038623\n",
       "1703     Zimbabwe    Africa  2007   43.487  12311143  469.709298\n",
       "\n",
       "[1704 rows x 6 columns]"
      ]
     },
     "execution_count": 8,
     "metadata": {},
     "output_type": "execute_result"
    }
   ],
   "source": [
    "df3"
   ]
  },
  {
   "cell_type": "markdown",
   "metadata": {},
   "source": [
    "## More about them here - \n",
    "- https://pandas.pydata.org/pandas-docs/stable/reference/api/pandas.read_csv.html\n",
    "- https://pandas.pydata.org/pandas-docs/stable/reference/api/pandas.read_excel.html"
   ]
  },
  {
   "cell_type": "markdown",
   "metadata": {},
   "source": [
    "### General Overview of Data"
   ]
  },
  {
   "cell_type": "code",
   "execution_count": 9,
   "metadata": {},
   "outputs": [
    {
     "data": {
      "text/plain": [
       "(283, 2)"
      ]
     },
     "execution_count": 9,
     "metadata": {},
     "output_type": "execute_result"
    }
   ],
   "source": [
    "df.shape "
   ]
  },
  {
   "cell_type": "code",
   "execution_count": 10,
   "metadata": {},
   "outputs": [
    {
     "data": {
      "text/html": [
       "<div>\n",
       "<style scoped>\n",
       "    .dataframe tbody tr th:only-of-type {\n",
       "        vertical-align: middle;\n",
       "    }\n",
       "\n",
       "    .dataframe tbody tr th {\n",
       "        vertical-align: top;\n",
       "    }\n",
       "\n",
       "    .dataframe thead th {\n",
       "        text-align: right;\n",
       "    }\n",
       "</style>\n",
       "<table border=\"1\" class=\"dataframe\">\n",
       "  <thead>\n",
       "    <tr style=\"text-align: right;\">\n",
       "      <th></th>\n",
       "      <th>DATE</th>\n",
       "      <th>INVCMRMT</th>\n",
       "    </tr>\n",
       "  </thead>\n",
       "  <tbody>\n",
       "    <tr>\n",
       "      <th>0</th>\n",
       "      <td>1997-01-01</td>\n",
       "      <td>1301161.0</td>\n",
       "    </tr>\n",
       "    <tr>\n",
       "      <th>1</th>\n",
       "      <td>1997-02-01</td>\n",
       "      <td>1307080.0</td>\n",
       "    </tr>\n",
       "    <tr>\n",
       "      <th>2</th>\n",
       "      <td>1997-03-01</td>\n",
       "      <td>1303978.0</td>\n",
       "    </tr>\n",
       "    <tr>\n",
       "      <th>3</th>\n",
       "      <td>1997-04-01</td>\n",
       "      <td>1319740.0</td>\n",
       "    </tr>\n",
       "    <tr>\n",
       "      <th>4</th>\n",
       "      <td>1997-05-01</td>\n",
       "      <td>1327294.0</td>\n",
       "    </tr>\n",
       "  </tbody>\n",
       "</table>\n",
       "</div>"
      ],
      "text/plain": [
       "         DATE   INVCMRMT\n",
       "0  1997-01-01  1301161.0\n",
       "1  1997-02-01  1307080.0\n",
       "2  1997-03-01  1303978.0\n",
       "3  1997-04-01  1319740.0\n",
       "4  1997-05-01  1327294.0"
      ]
     },
     "execution_count": 10,
     "metadata": {},
     "output_type": "execute_result"
    }
   ],
   "source": [
    "df.head() # You can see () after head as it is a function, head() is useful to see if the dataset has been loaded propely or not"
   ]
  },
  {
   "cell_type": "code",
   "execution_count": 11,
   "metadata": {},
   "outputs": [
    {
     "data": {
      "text/html": [
       "<div>\n",
       "<style scoped>\n",
       "    .dataframe tbody tr th:only-of-type {\n",
       "        vertical-align: middle;\n",
       "    }\n",
       "\n",
       "    .dataframe tbody tr th {\n",
       "        vertical-align: top;\n",
       "    }\n",
       "\n",
       "    .dataframe thead th {\n",
       "        text-align: right;\n",
       "    }\n",
       "</style>\n",
       "<table border=\"1\" class=\"dataframe\">\n",
       "  <thead>\n",
       "    <tr style=\"text-align: right;\">\n",
       "      <th></th>\n",
       "      <th>DATE</th>\n",
       "      <th>INVCMRMT</th>\n",
       "    </tr>\n",
       "  </thead>\n",
       "  <tbody>\n",
       "    <tr>\n",
       "      <th>0</th>\n",
       "      <td>1997-01-01</td>\n",
       "      <td>1301161.0</td>\n",
       "    </tr>\n",
       "    <tr>\n",
       "      <th>1</th>\n",
       "      <td>1997-02-01</td>\n",
       "      <td>1307080.0</td>\n",
       "    </tr>\n",
       "    <tr>\n",
       "      <th>2</th>\n",
       "      <td>1997-03-01</td>\n",
       "      <td>1303978.0</td>\n",
       "    </tr>\n",
       "  </tbody>\n",
       "</table>\n",
       "</div>"
      ],
      "text/plain": [
       "         DATE   INVCMRMT\n",
       "0  1997-01-01  1301161.0\n",
       "1  1997-02-01  1307080.0\n",
       "2  1997-03-01  1303978.0"
      ]
     },
     "execution_count": 11,
     "metadata": {},
     "output_type": "execute_result"
    }
   ],
   "source": [
    "df.head(3) # You can customize number of rows you want "
   ]
  },
  {
   "cell_type": "code",
   "execution_count": 12,
   "metadata": {},
   "outputs": [
    {
     "data": {
      "text/html": [
       "<div>\n",
       "<style scoped>\n",
       "    .dataframe tbody tr th:only-of-type {\n",
       "        vertical-align: middle;\n",
       "    }\n",
       "\n",
       "    .dataframe tbody tr th {\n",
       "        vertical-align: top;\n",
       "    }\n",
       "\n",
       "    .dataframe thead th {\n",
       "        text-align: right;\n",
       "    }\n",
       "</style>\n",
       "<table border=\"1\" class=\"dataframe\">\n",
       "  <thead>\n",
       "    <tr style=\"text-align: right;\">\n",
       "      <th></th>\n",
       "      <th>DATE</th>\n",
       "      <th>INVCMRMT</th>\n",
       "    </tr>\n",
       "  </thead>\n",
       "  <tbody>\n",
       "    <tr>\n",
       "      <th>278</th>\n",
       "      <td>2020-03-01</td>\n",
       "      <td>2192351.0</td>\n",
       "    </tr>\n",
       "    <tr>\n",
       "      <th>279</th>\n",
       "      <td>2020-04-01</td>\n",
       "      <td>2178236.0</td>\n",
       "    </tr>\n",
       "    <tr>\n",
       "      <th>280</th>\n",
       "      <td>2020-05-01</td>\n",
       "      <td>2144828.0</td>\n",
       "    </tr>\n",
       "    <tr>\n",
       "      <th>281</th>\n",
       "      <td>2020-06-01</td>\n",
       "      <td>2125810.0</td>\n",
       "    </tr>\n",
       "    <tr>\n",
       "      <th>282</th>\n",
       "      <td>2020-07-01</td>\n",
       "      <td>2121991.0</td>\n",
       "    </tr>\n",
       "  </tbody>\n",
       "</table>\n",
       "</div>"
      ],
      "text/plain": [
       "           DATE   INVCMRMT\n",
       "278  2020-03-01  2192351.0\n",
       "279  2020-04-01  2178236.0\n",
       "280  2020-05-01  2144828.0\n",
       "281  2020-06-01  2125810.0\n",
       "282  2020-07-01  2121991.0"
      ]
     },
     "execution_count": 12,
     "metadata": {},
     "output_type": "execute_result"
    }
   ],
   "source": [
    "df.tail() # Last view rows (5 by default)"
   ]
  },
  {
   "cell_type": "code",
   "execution_count": 13,
   "metadata": {},
   "outputs": [
    {
     "data": {
      "text/plain": [
       "Index(['DATE', 'INVCMRMT'], dtype='object')"
      ]
     },
     "execution_count": 13,
     "metadata": {},
     "output_type": "execute_result"
    }
   ],
   "source": [
    "df.columns # No () after columns as it is not a function but an attribute of the dataframe"
   ]
  },
  {
   "cell_type": "code",
   "execution_count": 14,
   "metadata": {},
   "outputs": [
    {
     "data": {
      "text/plain": [
       "RangeIndex(start=0, stop=283, step=1)"
      ]
     },
     "execution_count": 14,
     "metadata": {},
     "output_type": "execute_result"
    }
   ],
   "source": [
    "df.index"
   ]
  },
  {
   "cell_type": "code",
   "execution_count": 15,
   "metadata": {},
   "outputs": [
    {
     "name": "stdout",
     "output_type": "stream",
     "text": [
      "<class 'pandas.core.frame.DataFrame'>\n",
      "RangeIndex: 283 entries, 0 to 282\n",
      "Data columns (total 2 columns):\n",
      " #   Column    Non-Null Count  Dtype  \n",
      "---  ------    --------------  -----  \n",
      " 0   DATE      283 non-null    object \n",
      " 1   INVCMRMT  283 non-null    float64\n",
      "dtypes: float64(1), object(1)\n",
      "memory usage: 4.5+ KB\n"
     ]
    }
   ],
   "source": [
    "df.info() # Concise Summary"
   ]
  },
  {
   "cell_type": "code",
   "execution_count": 16,
   "metadata": {},
   "outputs": [
    {
     "data": {
      "text/plain": [
       "pandas.core.frame.DataFrame"
      ]
     },
     "execution_count": 16,
     "metadata": {},
     "output_type": "execute_result"
    }
   ],
   "source": [
    "type(df)"
   ]
  },
  {
   "cell_type": "markdown",
   "metadata": {},
   "source": [
    "Let's say you have a dataframe and you want to use it with some other library but it does not support pandas dataframe objects, a simple way is to use the df.values and convert it into a numpy array "
   ]
  },
  {
   "cell_type": "code",
   "execution_count": 17,
   "metadata": {},
   "outputs": [
    {
     "data": {
      "text/plain": [
       "array([['1997-01-01', 1301161.0],\n",
       "       ['1997-02-01', 1307080.0],\n",
       "       ['1997-03-01', 1303978.0],\n",
       "       ['1997-04-01', 1319740.0],\n",
       "       ['1997-05-01', 1327294.0],\n",
       "       ['1997-06-01', 1334688.0],\n",
       "       ['1997-07-01', 1342310.0],\n",
       "       ['1997-08-01', 1348243.0],\n",
       "       ['1997-09-01', 1355839.0],\n",
       "       ['1997-10-01', 1364970.0],\n",
       "       ['1997-11-01', 1370492.0],\n",
       "       ['1997-12-01', 1378022.0],\n",
       "       ['1998-01-01', 1384404.0],\n",
       "       ['1998-02-01', 1397707.0],\n",
       "       ['1998-03-01', 1410167.0],\n",
       "       ['1998-04-01', 1417122.0],\n",
       "       ['1998-05-01', 1419449.0],\n",
       "       ['1998-06-01', 1420897.0],\n",
       "       ['1998-07-01', 1422905.0],\n",
       "       ['1998-08-01', 1427365.0],\n",
       "       ['1998-09-01', 1433847.0],\n",
       "       ['1998-10-01', 1439499.0],\n",
       "       ['1998-11-01', 1447969.0],\n",
       "       ['1998-12-01', 1447814.0],\n",
       "       ['1999-01-01', 1452973.0],\n",
       "       ['1999-02-01', 1462122.0],\n",
       "       ['1999-03-01', 1473310.0],\n",
       "       ['1999-04-01', 1476429.0],\n",
       "       ['1999-05-01', 1479614.0],\n",
       "       ['1999-06-01', 1481030.0],\n",
       "       ['1999-07-01', 1487323.0],\n",
       "       ['1999-08-01', 1490333.0],\n",
       "       ['1999-09-01', 1495805.0],\n",
       "       ['1999-10-01', 1503112.0],\n",
       "       ['1999-11-01', 1514635.0],\n",
       "       ['1999-12-01', 1524132.0],\n",
       "       ['2000-01-01', 1524001.0],\n",
       "       ['2000-02-01', 1526667.0],\n",
       "       ['2000-03-01', 1528547.0],\n",
       "       ['2000-04-01', 1536838.0],\n",
       "       ['2000-05-01', 1542432.0],\n",
       "       ['2000-06-01', 1550692.0],\n",
       "       ['2000-07-01', 1556524.0],\n",
       "       ['2000-08-01', 1562943.0],\n",
       "       ['2000-09-01', 1564299.0],\n",
       "       ['2000-10-01', 1575214.0],\n",
       "       ['2000-11-01', 1582264.0],\n",
       "       ['2000-12-01', 1580917.0],\n",
       "       ['2001-01-01', 1582741.0],\n",
       "       ['2001-02-01', 1573301.0],\n",
       "       ['2001-03-01', 1565421.0],\n",
       "       ['2001-04-01', 1569481.0],\n",
       "       ['2001-05-01', 1570708.0],\n",
       "       ['2001-06-01', 1563177.0],\n",
       "       ['2001-07-01', 1556460.0],\n",
       "       ['2001-08-01', 1556143.0],\n",
       "       ['2001-09-01', 1552602.0],\n",
       "       ['2001-10-01', 1536333.0],\n",
       "       ['2001-11-01', 1524347.0],\n",
       "       ['2001-12-01', 1525165.0],\n",
       "       ['2002-01-01', 1531528.0],\n",
       "       ['2002-02-01', 1527437.0],\n",
       "       ['2002-03-01', 1526330.0],\n",
       "       ['2002-04-01', 1527589.0],\n",
       "       ['2002-05-01', 1532081.0],\n",
       "       ['2002-06-01', 1537610.0],\n",
       "       ['2002-07-01', 1542296.0],\n",
       "       ['2002-08-01', 1542090.0],\n",
       "       ['2002-09-01', 1546915.0],\n",
       "       ['2002-10-01', 1546331.0],\n",
       "       ['2002-11-01', 1550656.0],\n",
       "       ['2002-12-01', 1558272.0],\n",
       "       ['2003-01-01', 1560578.0],\n",
       "       ['2003-02-01', 1567829.0],\n",
       "       ['2003-03-01', 1567763.0],\n",
       "       ['2003-04-01', 1568316.0],\n",
       "       ['2003-05-01', 1564403.0],\n",
       "       ['2003-06-01', 1562940.0],\n",
       "       ['2003-07-01', 1562001.0],\n",
       "       ['2003-08-01', 1556297.0],\n",
       "       ['2003-09-01', 1562025.0],\n",
       "       ['2003-10-01', 1566433.0],\n",
       "       ['2003-11-01', 1568729.0],\n",
       "       ['2003-12-01', 1570539.0],\n",
       "       ['2004-01-01', 1569042.0],\n",
       "       ['2004-02-01', 1576929.0],\n",
       "       ['2004-03-01', 1582863.0],\n",
       "       ['2004-04-01', 1585653.0],\n",
       "       ['2004-05-01', 1591503.0],\n",
       "       ['2004-06-01', 1599200.0],\n",
       "       ['2004-07-01', 1608600.0],\n",
       "       ['2004-08-01', 1615741.0],\n",
       "       ['2004-09-01', 1612955.0],\n",
       "       ['2004-10-01', 1620774.0],\n",
       "       ['2004-11-01', 1629938.0],\n",
       "       ['2004-12-01', 1631021.0],\n",
       "       ['2005-01-01', 1645553.0],\n",
       "       ['2005-02-01', 1655465.0],\n",
       "       ['2005-03-01', 1658874.0],\n",
       "       ['2005-04-01', 1660685.0],\n",
       "       ['2005-05-01', 1659607.0],\n",
       "       ['2005-06-01', 1662317.0],\n",
       "       ['2005-07-01', 1658649.0],\n",
       "       ['2005-08-01', 1662692.0],\n",
       "       ['2005-09-01', 1667928.0],\n",
       "       ['2005-10-01', 1675844.0],\n",
       "       ['2005-11-01', 1680516.0],\n",
       "       ['2005-12-01', 1689169.0],\n",
       "       ['2006-01-01', 1695662.0],\n",
       "       ['2006-02-01', 1694174.0],\n",
       "       ['2006-03-01', 1703497.0],\n",
       "       ['2006-04-01', 1707158.0],\n",
       "       ['2006-05-01', 1714176.0],\n",
       "       ['2006-06-01', 1720314.0],\n",
       "       ['2006-07-01', 1721834.0],\n",
       "       ['2006-08-01', 1730258.0],\n",
       "       ['2006-09-01', 1736178.0],\n",
       "       ['2006-10-01', 1735465.0],\n",
       "       ['2006-11-01', 1742619.0],\n",
       "       ['2006-12-01', 1742696.0],\n",
       "       ['2007-01-01', 1742199.0],\n",
       "       ['2007-02-01', 1746527.0],\n",
       "       ['2007-03-01', 1745838.0],\n",
       "       ['2007-04-01', 1750582.0],\n",
       "       ['2007-05-01', 1753264.0],\n",
       "       ['2007-06-01', 1756731.0],\n",
       "       ['2007-07-01', 1756867.0],\n",
       "       ['2007-08-01', 1763164.0],\n",
       "       ['2007-09-01', 1769841.0],\n",
       "       ['2007-10-01', 1773728.0],\n",
       "       ['2007-11-01', 1776207.0],\n",
       "       ['2007-12-01', 1781578.0],\n",
       "       ['2008-01-01', 1789818.0],\n",
       "       ['2008-02-01', 1787911.0],\n",
       "       ['2008-03-01', 1778978.0],\n",
       "       ['2008-04-01', 1775600.0],\n",
       "       ['2008-05-01', 1769829.0],\n",
       "       ['2008-06-01', 1772317.0],\n",
       "       ['2008-07-01', 1777256.0],\n",
       "       ['2008-08-01', 1773966.0],\n",
       "       ['2008-09-01', 1764426.0],\n",
       "       ['2008-10-01', 1756904.0],\n",
       "       ['2008-11-01', 1755209.0],\n",
       "       ['2008-12-01', 1741177.0],\n",
       "       ['2009-01-01', 1734667.0],\n",
       "       ['2009-02-01', 1718820.0],\n",
       "       ['2009-03-01', 1703226.0],\n",
       "       ['2009-04-01', 1690786.0],\n",
       "       ['2009-05-01', 1673611.0],\n",
       "       ['2009-06-01', 1655462.0],\n",
       "       ['2009-07-01', 1638480.0],\n",
       "       ['2009-08-01', 1617107.0],\n",
       "       ['2009-09-01', 1608198.0],\n",
       "       ['2009-10-01', 1610476.0],\n",
       "       ['2009-11-01', 1612759.0],\n",
       "       ['2009-12-01', 1604026.0],\n",
       "       ['2010-01-01', 1602743.0],\n",
       "       ['2010-02-01', 1605271.0],\n",
       "       ['2010-03-01', 1607725.0],\n",
       "       ['2010-04-01', 1608913.0],\n",
       "       ['2010-05-01', 1606114.0],\n",
       "       ['2010-06-01', 1615168.0],\n",
       "       ['2010-07-01', 1625366.0],\n",
       "       ['2010-08-01', 1635130.0],\n",
       "       ['2010-09-01', 1647697.0],\n",
       "       ['2010-10-01', 1656675.0],\n",
       "       ['2010-11-01', 1656120.0],\n",
       "       ['2010-12-01', 1663852.0],\n",
       "       ['2011-01-01', 1665177.0],\n",
       "       ['2011-02-01', 1664173.0],\n",
       "       ['2011-03-01', 1672664.0],\n",
       "       ['2011-04-01', 1679090.0],\n",
       "       ['2011-05-01', 1687537.0],\n",
       "       ['2011-06-01', 1691018.0],\n",
       "       ['2011-07-01', 1692266.0],\n",
       "       ['2011-08-01', 1695545.0],\n",
       "       ['2011-09-01', 1687894.0],\n",
       "       ['2011-10-01', 1696715.0],\n",
       "       ['2011-11-01', 1703512.0],\n",
       "       ['2011-12-01', 1709421.0],\n",
       "       ['2012-01-01', 1714925.0],\n",
       "       ['2012-02-01', 1726169.0],\n",
       "       ['2012-03-01', 1729963.0],\n",
       "       ['2012-04-01', 1735732.0],\n",
       "       ['2012-05-01', 1743584.0],\n",
       "       ['2012-06-01', 1749502.0],\n",
       "       ['2012-07-01', 1761306.0],\n",
       "       ['2012-08-01', 1769266.0],\n",
       "       ['2012-09-01', 1775178.0],\n",
       "       ['2012-10-01', 1775242.0],\n",
       "       ['2012-11-01', 1780540.0],\n",
       "       ['2012-12-01', 1784009.0],\n",
       "       ['2013-01-01', 1799869.0],\n",
       "       ['2013-02-01', 1803481.0],\n",
       "       ['2013-03-01', 1806109.0],\n",
       "       ['2013-04-01', 1813121.0],\n",
       "       ['2013-05-01', 1815245.0],\n",
       "       ['2013-06-01', 1819522.0],\n",
       "       ['2013-07-01', 1827709.0],\n",
       "       ['2013-08-01', 1838062.0],\n",
       "       ['2013-09-01', 1848087.0],\n",
       "       ['2013-10-01', 1860310.0],\n",
       "       ['2013-11-01', 1871121.0],\n",
       "       ['2013-12-01', 1878653.0],\n",
       "       ['2014-01-01', 1884483.0],\n",
       "       ['2014-02-01', 1890844.0],\n",
       "       ['2014-03-01', 1893923.0],\n",
       "       ['2014-04-01', 1901124.0],\n",
       "       ['2014-05-01', 1908092.0],\n",
       "       ['2014-06-01', 1912524.0],\n",
       "       ['2014-07-01', 1921453.0],\n",
       "       ['2014-08-01', 1928057.0],\n",
       "       ['2014-09-01', 1930589.0],\n",
       "       ['2014-10-01', 1938554.0],\n",
       "       ['2014-11-01', 1944816.0],\n",
       "       ['2014-12-01', 1947203.0],\n",
       "       ['2015-01-01', 1954906.0],\n",
       "       ['2015-02-01', 1967795.0],\n",
       "       ['2015-03-01', 1975742.0],\n",
       "       ['2015-04-01', 1987557.0],\n",
       "       ['2015-05-01', 1993371.0],\n",
       "       ['2015-06-01', 2005310.0],\n",
       "       ['2015-07-01', 2011272.0],\n",
       "       ['2015-08-01', 2017750.0],\n",
       "       ['2015-09-01', 2028458.0],\n",
       "       ['2015-10-01', 2037127.0],\n",
       "       ['2015-11-01', 2037636.0],\n",
       "       ['2015-12-01', 2042724.0],\n",
       "       ['2016-01-01', 2045270.0],\n",
       "       ['2016-02-01', 2043474.0],\n",
       "       ['2016-03-01', 2052727.0],\n",
       "       ['2016-04-01', 2057515.0],\n",
       "       ['2016-05-01', 2057006.0],\n",
       "       ['2016-06-01', 2054929.0],\n",
       "       ['2016-07-01', 2051079.0],\n",
       "       ['2016-08-01', 2051927.0],\n",
       "       ['2016-09-01', 2056007.0],\n",
       "       ['2016-10-01', 2054770.0],\n",
       "       ['2016-11-01', 2065930.0],\n",
       "       ['2016-12-01', 2069867.0],\n",
       "       ['2017-01-01', 2069616.0],\n",
       "       ['2017-02-01', 2066881.0],\n",
       "       ['2017-03-01', 2068191.0],\n",
       "       ['2017-04-01', 2063455.0],\n",
       "       ['2017-05-01', 2067188.0],\n",
       "       ['2017-06-01', 2074142.0],\n",
       "       ['2017-07-01', 2077863.0],\n",
       "       ['2017-08-01', 2086790.0],\n",
       "       ['2017-09-01', 2088135.0],\n",
       "       ['2017-10-01', 2086084.0],\n",
       "       ['2017-11-01', 2093438.0],\n",
       "       ['2017-12-01', 2096385.0],\n",
       "       ['2018-01-01', 2103620.0],\n",
       "       ['2018-02-01', 2112722.0],\n",
       "       ['2018-03-01', 2111511.0],\n",
       "       ['2018-04-01', 2113456.0],\n",
       "       ['2018-05-01', 2114511.0],\n",
       "       ['2018-06-01', 2113749.0],\n",
       "       ['2018-07-01', 2122281.0],\n",
       "       ['2018-08-01', 2129534.0],\n",
       "       ['2018-09-01', 2135205.0],\n",
       "       ['2018-10-01', 2143767.0],\n",
       "       ['2018-11-01', 2143229.0],\n",
       "       ['2018-12-01', 2159894.0],\n",
       "       ['2019-01-01', 2174287.0],\n",
       "       ['2019-02-01', 2183374.0],\n",
       "       ['2019-03-01', 2182942.0],\n",
       "       ['2019-04-01', 2185718.0],\n",
       "       ['2019-05-01', 2189679.0],\n",
       "       ['2019-06-01', 2192017.0],\n",
       "       ['2019-07-01', 2200394.0],\n",
       "       ['2019-08-01', 2200320.0],\n",
       "       ['2019-09-01', 2202122.0],\n",
       "       ['2019-10-01', 2203476.0],\n",
       "       ['2019-11-01', 2202134.0],\n",
       "       ['2019-12-01', 2204873.0],\n",
       "       ['2020-01-01', 2199503.0],\n",
       "       ['2020-02-01', 2195308.0],\n",
       "       ['2020-03-01', 2192351.0],\n",
       "       ['2020-04-01', 2178236.0],\n",
       "       ['2020-05-01', 2144828.0],\n",
       "       ['2020-06-01', 2125810.0],\n",
       "       ['2020-07-01', 2121991.0]], dtype=object)"
      ]
     },
     "execution_count": 17,
     "metadata": {},
     "output_type": "execute_result"
    }
   ],
   "source": [
    "df.values "
   ]
  },
  {
   "cell_type": "code",
   "execution_count": 18,
   "metadata": {},
   "outputs": [
    {
     "data": {
      "text/plain": [
       "numpy.ndarray"
      ]
     },
     "execution_count": 18,
     "metadata": {},
     "output_type": "execute_result"
    }
   ],
   "source": [
    "type(df.values)"
   ]
  },
  {
   "cell_type": "markdown",
   "metadata": {},
   "source": [
    "## Helpful Docs for this section \n",
    "\n",
    "- https://pandas.pydata.org/pandas-docs/stable/reference/api/pandas.DataFrame.shape.html\n",
    "- https://pandas.pydata.org/pandas-docs/stable/reference/api/pandas.DataFrame.head.html\n",
    "- https://pandas.pydata.org/pandas-docs/stable/reference/api/pandas.DataFrame.tail.html\n",
    "- https://pandas.pydata.org/pandas-docs/stable/reference/api/pandas.DataFrame.columns.html\n",
    "- https://pandas.pydata.org/pandas-docs/stable/reference/api/pandas.DataFrame.index.html\n",
    "\n",
    "Now you should have a good idea about how important docs are, a simple Google Search will also yield these results incasse you're stuck with a specific problem -\n",
    "\n",
    "![Google Search](cooldata/gdoc.png)"
   ]
  },
  {
   "cell_type": "markdown",
   "metadata": {},
   "source": [
    "### Accessing Columns"
   ]
  },
  {
   "cell_type": "code",
   "execution_count": 19,
   "metadata": {},
   "outputs": [
    {
     "data": {
      "text/html": [
       "<div>\n",
       "<style scoped>\n",
       "    .dataframe tbody tr th:only-of-type {\n",
       "        vertical-align: middle;\n",
       "    }\n",
       "\n",
       "    .dataframe tbody tr th {\n",
       "        vertical-align: top;\n",
       "    }\n",
       "\n",
       "    .dataframe thead th {\n",
       "        text-align: right;\n",
       "    }\n",
       "</style>\n",
       "<table border=\"1\" class=\"dataframe\">\n",
       "  <thead>\n",
       "    <tr style=\"text-align: right;\">\n",
       "      <th></th>\n",
       "      <th>DATE</th>\n",
       "      <th>INVCMRMT</th>\n",
       "    </tr>\n",
       "  </thead>\n",
       "  <tbody>\n",
       "    <tr>\n",
       "      <th>0</th>\n",
       "      <td>1997-01-01</td>\n",
       "      <td>1301161.0</td>\n",
       "    </tr>\n",
       "    <tr>\n",
       "      <th>1</th>\n",
       "      <td>1997-02-01</td>\n",
       "      <td>1307080.0</td>\n",
       "    </tr>\n",
       "    <tr>\n",
       "      <th>2</th>\n",
       "      <td>1997-03-01</td>\n",
       "      <td>1303978.0</td>\n",
       "    </tr>\n",
       "    <tr>\n",
       "      <th>3</th>\n",
       "      <td>1997-04-01</td>\n",
       "      <td>1319740.0</td>\n",
       "    </tr>\n",
       "    <tr>\n",
       "      <th>4</th>\n",
       "      <td>1997-05-01</td>\n",
       "      <td>1327294.0</td>\n",
       "    </tr>\n",
       "  </tbody>\n",
       "</table>\n",
       "</div>"
      ],
      "text/plain": [
       "         DATE   INVCMRMT\n",
       "0  1997-01-01  1301161.0\n",
       "1  1997-02-01  1307080.0\n",
       "2  1997-03-01  1303978.0\n",
       "3  1997-04-01  1319740.0\n",
       "4  1997-05-01  1327294.0"
      ]
     },
     "execution_count": 19,
     "metadata": {},
     "output_type": "execute_result"
    }
   ],
   "source": [
    "df.head()"
   ]
  },
  {
   "cell_type": "code",
   "execution_count": 20,
   "metadata": {},
   "outputs": [
    {
     "data": {
      "text/plain": [
       "0      1997-01-01\n",
       "1      1997-02-01\n",
       "2      1997-03-01\n",
       "3      1997-04-01\n",
       "4      1997-05-01\n",
       "          ...    \n",
       "278    2020-03-01\n",
       "279    2020-04-01\n",
       "280    2020-05-01\n",
       "281    2020-06-01\n",
       "282    2020-07-01\n",
       "Name: DATE, Length: 283, dtype: object"
      ]
     },
     "execution_count": 20,
     "metadata": {},
     "output_type": "execute_result"
    }
   ],
   "source": [
    "df['DATE']"
   ]
  },
  {
   "cell_type": "code",
   "execution_count": 21,
   "metadata": {},
   "outputs": [
    {
     "data": {
      "text/plain": [
       "0    1997-01-01\n",
       "1    1997-02-01\n",
       "2    1997-03-01\n",
       "3    1997-04-01\n",
       "4    1997-05-01\n",
       "Name: DATE, dtype: object"
      ]
     },
     "execution_count": 21,
     "metadata": {},
     "output_type": "execute_result"
    }
   ],
   "source": [
    "df['DATE'].head() # Using Multiple Functions at Once"
   ]
  },
  {
   "cell_type": "markdown",
   "metadata": {},
   "source": [
    "### How to get multiple columns?"
   ]
  },
  {
   "cell_type": "code",
   "execution_count": 22,
   "metadata": {},
   "outputs": [
    {
     "data": {
      "text/html": [
       "<div>\n",
       "<style scoped>\n",
       "    .dataframe tbody tr th:only-of-type {\n",
       "        vertical-align: middle;\n",
       "    }\n",
       "\n",
       "    .dataframe tbody tr th {\n",
       "        vertical-align: top;\n",
       "    }\n",
       "\n",
       "    .dataframe thead th {\n",
       "        text-align: right;\n",
       "    }\n",
       "</style>\n",
       "<table border=\"1\" class=\"dataframe\">\n",
       "  <thead>\n",
       "    <tr style=\"text-align: right;\">\n",
       "      <th></th>\n",
       "      <th>Year</th>\n",
       "      <th>Stocks</th>\n",
       "      <th>T.Bills</th>\n",
       "      <th>T.Bonds</th>\n",
       "    </tr>\n",
       "  </thead>\n",
       "  <tbody>\n",
       "    <tr>\n",
       "      <th>0</th>\n",
       "      <td>1928</td>\n",
       "      <td>0.4381</td>\n",
       "      <td>0.0308</td>\n",
       "      <td>0.0084</td>\n",
       "    </tr>\n",
       "    <tr>\n",
       "      <th>1</th>\n",
       "      <td>1929</td>\n",
       "      <td>-0.083</td>\n",
       "      <td>0.0316</td>\n",
       "      <td>0.042</td>\n",
       "    </tr>\n",
       "    <tr>\n",
       "      <th>2</th>\n",
       "      <td>1930</td>\n",
       "      <td>-0.2512</td>\n",
       "      <td>0.0455</td>\n",
       "      <td>0.0454</td>\n",
       "    </tr>\n",
       "    <tr>\n",
       "      <th>3</th>\n",
       "      <td>1931</td>\n",
       "      <td>-0.4384</td>\n",
       "      <td>0.0231</td>\n",
       "      <td>-0.0256</td>\n",
       "    </tr>\n",
       "    <tr>\n",
       "      <th>4</th>\n",
       "      <td>1932</td>\n",
       "      <td>-0.0864</td>\n",
       "      <td>0.0107</td>\n",
       "      <td>0.0879</td>\n",
       "    </tr>\n",
       "    <tr>\n",
       "      <th>...</th>\n",
       "      <td>...</td>\n",
       "      <td>...</td>\n",
       "      <td>...</td>\n",
       "      <td>...</td>\n",
       "    </tr>\n",
       "    <tr>\n",
       "      <th>79</th>\n",
       "      <td>2007</td>\n",
       "      <td>0.0549</td>\n",
       "      <td>0.0988</td>\n",
       "      <td>0.0466</td>\n",
       "    </tr>\n",
       "    <tr>\n",
       "      <th>80</th>\n",
       "      <td>2008</td>\n",
       "      <td>-0.37</td>\n",
       "      <td>0.2587</td>\n",
       "      <td>0.016</td>\n",
       "    </tr>\n",
       "    <tr>\n",
       "      <th>81</th>\n",
       "      <td>2009</td>\n",
       "      <td>0.2646</td>\n",
       "      <td>-0.149</td>\n",
       "      <td>0.001</td>\n",
       "    </tr>\n",
       "    <tr>\n",
       "      <th>82</th>\n",
       "      <td>NaN</td>\n",
       "      <td>stocks</td>\n",
       "      <td>tbills</td>\n",
       "      <td>bonds</td>\n",
       "    </tr>\n",
       "    <tr>\n",
       "      <th>83</th>\n",
       "      <td>averages</td>\n",
       "      <td>NaN</td>\n",
       "      <td>NaN</td>\n",
       "      <td>NaN</td>\n",
       "    </tr>\n",
       "  </tbody>\n",
       "</table>\n",
       "<p>84 rows × 4 columns</p>\n",
       "</div>"
      ],
      "text/plain": [
       "        Year  Stocks T.Bills T.Bonds\n",
       "0       1928  0.4381  0.0308  0.0084\n",
       "1       1929  -0.083  0.0316   0.042\n",
       "2       1930 -0.2512  0.0455  0.0454\n",
       "3       1931 -0.4384  0.0231 -0.0256\n",
       "4       1932 -0.0864  0.0107  0.0879\n",
       "..       ...     ...     ...     ...\n",
       "79      2007  0.0549  0.0988  0.0466\n",
       "80      2008   -0.37  0.2587   0.016\n",
       "81      2009  0.2646  -0.149   0.001\n",
       "82       NaN  stocks  tbills   bonds\n",
       "83  averages     NaN     NaN     NaN\n",
       "\n",
       "[84 rows x 4 columns]"
      ]
     },
     "execution_count": 22,
     "metadata": {},
     "output_type": "execute_result"
    }
   ],
   "source": [
    "df2"
   ]
  },
  {
   "cell_type": "code",
   "execution_count": 23,
   "metadata": {},
   "outputs": [],
   "source": [
    "df_subset = df2[['Year', 'Stocks']] # Pass a list of all the columns which you want"
   ]
  },
  {
   "cell_type": "code",
   "execution_count": 24,
   "metadata": {},
   "outputs": [
    {
     "data": {
      "text/html": [
       "<div>\n",
       "<style scoped>\n",
       "    .dataframe tbody tr th:only-of-type {\n",
       "        vertical-align: middle;\n",
       "    }\n",
       "\n",
       "    .dataframe tbody tr th {\n",
       "        vertical-align: top;\n",
       "    }\n",
       "\n",
       "    .dataframe thead th {\n",
       "        text-align: right;\n",
       "    }\n",
       "</style>\n",
       "<table border=\"1\" class=\"dataframe\">\n",
       "  <thead>\n",
       "    <tr style=\"text-align: right;\">\n",
       "      <th></th>\n",
       "      <th>Year</th>\n",
       "      <th>Stocks</th>\n",
       "    </tr>\n",
       "  </thead>\n",
       "  <tbody>\n",
       "    <tr>\n",
       "      <th>0</th>\n",
       "      <td>1928</td>\n",
       "      <td>0.4381</td>\n",
       "    </tr>\n",
       "    <tr>\n",
       "      <th>1</th>\n",
       "      <td>1929</td>\n",
       "      <td>-0.083</td>\n",
       "    </tr>\n",
       "  </tbody>\n",
       "</table>\n",
       "</div>"
      ],
      "text/plain": [
       "   Year  Stocks\n",
       "0  1928  0.4381\n",
       "1  1929  -0.083"
      ]
     },
     "execution_count": 24,
     "metadata": {},
     "output_type": "execute_result"
    }
   ],
   "source": [
    "df_subset.head(2)"
   ]
  },
  {
   "cell_type": "markdown",
   "metadata": {},
   "source": [
    "### Accessing Rows "
   ]
  },
  {
   "cell_type": "code",
   "execution_count": 25,
   "metadata": {},
   "outputs": [
    {
     "data": {
      "text/html": [
       "<div>\n",
       "<style scoped>\n",
       "    .dataframe tbody tr th:only-of-type {\n",
       "        vertical-align: middle;\n",
       "    }\n",
       "\n",
       "    .dataframe tbody tr th {\n",
       "        vertical-align: top;\n",
       "    }\n",
       "\n",
       "    .dataframe thead th {\n",
       "        text-align: right;\n",
       "    }\n",
       "</style>\n",
       "<table border=\"1\" class=\"dataframe\">\n",
       "  <thead>\n",
       "    <tr style=\"text-align: right;\">\n",
       "      <th></th>\n",
       "      <th>DATE</th>\n",
       "      <th>INVCMRMT</th>\n",
       "    </tr>\n",
       "  </thead>\n",
       "  <tbody>\n",
       "    <tr>\n",
       "      <th>0</th>\n",
       "      <td>1997-01-01</td>\n",
       "      <td>1301161.0</td>\n",
       "    </tr>\n",
       "    <tr>\n",
       "      <th>1</th>\n",
       "      <td>1997-02-01</td>\n",
       "      <td>1307080.0</td>\n",
       "    </tr>\n",
       "    <tr>\n",
       "      <th>2</th>\n",
       "      <td>1997-03-01</td>\n",
       "      <td>1303978.0</td>\n",
       "    </tr>\n",
       "    <tr>\n",
       "      <th>3</th>\n",
       "      <td>1997-04-01</td>\n",
       "      <td>1319740.0</td>\n",
       "    </tr>\n",
       "  </tbody>\n",
       "</table>\n",
       "</div>"
      ],
      "text/plain": [
       "         DATE   INVCMRMT\n",
       "0  1997-01-01  1301161.0\n",
       "1  1997-02-01  1307080.0\n",
       "2  1997-03-01  1303978.0\n",
       "3  1997-04-01  1319740.0"
      ]
     },
     "execution_count": 25,
     "metadata": {},
     "output_type": "execute_result"
    }
   ],
   "source": [
    "df.head(4)"
   ]
  },
  {
   "cell_type": "markdown",
   "metadata": {},
   "source": [
    "### Using loc"
   ]
  },
  {
   "cell_type": "code",
   "execution_count": 26,
   "metadata": {},
   "outputs": [
    {
     "data": {
      "text/plain": [
       "DATE         1997-03-01\n",
       "INVCMRMT    1.30398e+06\n",
       "Name: 2, dtype: object"
      ]
     },
     "execution_count": 26,
     "metadata": {},
     "output_type": "execute_result"
    }
   ],
   "source": [
    "df.loc[2] # Picks Index from the index of the dataframe which matches the input parameter and not like the second value itself"
   ]
  },
  {
   "cell_type": "code",
   "execution_count": 27,
   "metadata": {},
   "outputs": [],
   "source": [
    "specdf = pd.read_excel('cooldata/loc.xlsx', index_col = 0) # index_col tells which col to use as index"
   ]
  },
  {
   "cell_type": "code",
   "execution_count": 28,
   "metadata": {},
   "outputs": [
    {
     "ename": "NameError",
     "evalue": "name 'specdf_loc' is not defined",
     "output_type": "error",
     "traceback": [
      "\u001b[1;31m---------------------------------------------------------------------------\u001b[0m",
      "\u001b[1;31mNameError\u001b[0m                                 Traceback (most recent call last)",
      "\u001b[1;32m<ipython-input-28-0f0c25301773>\u001b[0m in \u001b[0;36m<module>\u001b[1;34m\u001b[0m\n\u001b[1;32m----> 1\u001b[1;33m \u001b[0mspecdf_loc\u001b[0m \u001b[1;31m# Special data to showcase loc\u001b[0m\u001b[1;33m\u001b[0m\u001b[1;33m\u001b[0m\u001b[0m\n\u001b[0m",
      "\u001b[1;31mNameError\u001b[0m: name 'specdf_loc' is not defined"
     ]
    }
   ],
   "source": [
    "specdf_loc # Special data to showcase loc"
   ]
  },
  {
   "cell_type": "code",
   "execution_count": null,
   "metadata": {},
   "outputs": [],
   "source": [
    "df_loc.loc[1] # As you can see you get all possible matches where index is 1"
   ]
  },
  {
   "cell_type": "markdown",
   "metadata": {},
   "source": [
    "### Get Multiple Rows using loc"
   ]
  },
  {
   "cell_type": "code",
   "execution_count": null,
   "metadata": {},
   "outputs": [],
   "source": [
    "df.loc[[0,11]] # Similar to getting multiple columns"
   ]
  },
  {
   "cell_type": "markdown",
   "metadata": {},
   "source": [
    "### Using iloc (Index based matching instead of matching key to values in loc)"
   ]
  },
  {
   "cell_type": "code",
   "execution_count": 29,
   "metadata": {},
   "outputs": [
    {
     "data": {
      "text/plain": [
       "DATE         1997-03-01\n",
       "INVCMRMT    1.30398e+06\n",
       "Name: 2, dtype: object"
      ]
     },
     "execution_count": 29,
     "metadata": {},
     "output_type": "execute_result"
    }
   ],
   "source": [
    "df.iloc[2]"
   ]
  },
  {
   "cell_type": "code",
   "execution_count": 30,
   "metadata": {},
   "outputs": [
    {
     "data": {
      "text/html": [
       "<div>\n",
       "<style scoped>\n",
       "    .dataframe tbody tr th:only-of-type {\n",
       "        vertical-align: middle;\n",
       "    }\n",
       "\n",
       "    .dataframe tbody tr th {\n",
       "        vertical-align: top;\n",
       "    }\n",
       "\n",
       "    .dataframe thead th {\n",
       "        text-align: right;\n",
       "    }\n",
       "</style>\n",
       "<table border=\"1\" class=\"dataframe\">\n",
       "  <thead>\n",
       "    <tr style=\"text-align: right;\">\n",
       "      <th></th>\n",
       "      <th>A</th>\n",
       "      <th>B</th>\n",
       "    </tr>\n",
       "  </thead>\n",
       "  <tbody>\n",
       "    <tr>\n",
       "      <th>0</th>\n",
       "      <td>2</td>\n",
       "      <td>3</td>\n",
       "    </tr>\n",
       "    <tr>\n",
       "      <th>1</th>\n",
       "      <td>4</td>\n",
       "      <td>5</td>\n",
       "    </tr>\n",
       "    <tr>\n",
       "      <th>2</th>\n",
       "      <td>4</td>\n",
       "      <td>4</td>\n",
       "    </tr>\n",
       "    <tr>\n",
       "      <th>3</th>\n",
       "      <td>3</td>\n",
       "      <td>4</td>\n",
       "    </tr>\n",
       "    <tr>\n",
       "      <th>1</th>\n",
       "      <td>2</td>\n",
       "      <td>3</td>\n",
       "    </tr>\n",
       "  </tbody>\n",
       "</table>\n",
       "</div>"
      ],
      "text/plain": [
       "   A  B\n",
       "0  2  3\n",
       "1  4  5\n",
       "2  4  4\n",
       "3  3  4\n",
       "1  2  3"
      ]
     },
     "execution_count": 30,
     "metadata": {},
     "output_type": "execute_result"
    }
   ],
   "source": [
    "specdf"
   ]
  },
  {
   "cell_type": "code",
   "execution_count": 31,
   "metadata": {},
   "outputs": [
    {
     "data": {
      "text/plain": [
       "A    4\n",
       "B    5\n",
       "Name: 1, dtype: int64"
      ]
     },
     "execution_count": 31,
     "metadata": {},
     "output_type": "execute_result"
    }
   ],
   "source": [
    "specdf.iloc[1] #Now you get value at index 1 and not all places where index column value matches 1"
   ]
  },
  {
   "cell_type": "markdown",
   "metadata": {},
   "source": [
    "### ix is another way however since it is a deprecated practice it won't be covered you can read about it in the docs if you're interested"
   ]
  },
  {
   "cell_type": "markdown",
   "metadata": {},
   "source": [
    "### Subsetting both columns and rows"
   ]
  },
  {
   "cell_type": "code",
   "execution_count": 32,
   "metadata": {},
   "outputs": [
    {
     "data": {
      "text/html": [
       "<div>\n",
       "<style scoped>\n",
       "    .dataframe tbody tr th:only-of-type {\n",
       "        vertical-align: middle;\n",
       "    }\n",
       "\n",
       "    .dataframe tbody tr th {\n",
       "        vertical-align: top;\n",
       "    }\n",
       "\n",
       "    .dataframe thead th {\n",
       "        text-align: right;\n",
       "    }\n",
       "</style>\n",
       "<table border=\"1\" class=\"dataframe\">\n",
       "  <thead>\n",
       "    <tr style=\"text-align: right;\">\n",
       "      <th></th>\n",
       "      <th>Year</th>\n",
       "      <th>Stocks</th>\n",
       "      <th>T.Bills</th>\n",
       "      <th>T.Bonds</th>\n",
       "    </tr>\n",
       "  </thead>\n",
       "  <tbody>\n",
       "    <tr>\n",
       "      <th>0</th>\n",
       "      <td>1928</td>\n",
       "      <td>0.4381</td>\n",
       "      <td>0.0308</td>\n",
       "      <td>0.0084</td>\n",
       "    </tr>\n",
       "    <tr>\n",
       "      <th>1</th>\n",
       "      <td>1929</td>\n",
       "      <td>-0.083</td>\n",
       "      <td>0.0316</td>\n",
       "      <td>0.042</td>\n",
       "    </tr>\n",
       "    <tr>\n",
       "      <th>2</th>\n",
       "      <td>1930</td>\n",
       "      <td>-0.2512</td>\n",
       "      <td>0.0455</td>\n",
       "      <td>0.0454</td>\n",
       "    </tr>\n",
       "    <tr>\n",
       "      <th>3</th>\n",
       "      <td>1931</td>\n",
       "      <td>-0.4384</td>\n",
       "      <td>0.0231</td>\n",
       "      <td>-0.0256</td>\n",
       "    </tr>\n",
       "    <tr>\n",
       "      <th>4</th>\n",
       "      <td>1932</td>\n",
       "      <td>-0.0864</td>\n",
       "      <td>0.0107</td>\n",
       "      <td>0.0879</td>\n",
       "    </tr>\n",
       "  </tbody>\n",
       "</table>\n",
       "</div>"
      ],
      "text/plain": [
       "   Year  Stocks T.Bills T.Bonds\n",
       "0  1928  0.4381  0.0308  0.0084\n",
       "1  1929  -0.083  0.0316   0.042\n",
       "2  1930 -0.2512  0.0455  0.0454\n",
       "3  1931 -0.4384  0.0231 -0.0256\n",
       "4  1932 -0.0864  0.0107  0.0879"
      ]
     },
     "execution_count": 32,
     "metadata": {},
     "output_type": "execute_result"
    }
   ],
   "source": [
    "df2.head()"
   ]
  },
  {
   "cell_type": "code",
   "execution_count": 33,
   "metadata": {},
   "outputs": [],
   "source": [
    "subset = df2.loc[:,['Year', 'Stocks']] # Before comma we add the rows. after comma we add the columns"
   ]
  },
  {
   "cell_type": "code",
   "execution_count": 34,
   "metadata": {},
   "outputs": [
    {
     "data": {
      "text/html": [
       "<div>\n",
       "<style scoped>\n",
       "    .dataframe tbody tr th:only-of-type {\n",
       "        vertical-align: middle;\n",
       "    }\n",
       "\n",
       "    .dataframe tbody tr th {\n",
       "        vertical-align: top;\n",
       "    }\n",
       "\n",
       "    .dataframe thead th {\n",
       "        text-align: right;\n",
       "    }\n",
       "</style>\n",
       "<table border=\"1\" class=\"dataframe\">\n",
       "  <thead>\n",
       "    <tr style=\"text-align: right;\">\n",
       "      <th></th>\n",
       "      <th>Year</th>\n",
       "      <th>Stocks</th>\n",
       "    </tr>\n",
       "  </thead>\n",
       "  <tbody>\n",
       "    <tr>\n",
       "      <th>0</th>\n",
       "      <td>1928</td>\n",
       "      <td>0.4381</td>\n",
       "    </tr>\n",
       "    <tr>\n",
       "      <th>1</th>\n",
       "      <td>1929</td>\n",
       "      <td>-0.083</td>\n",
       "    </tr>\n",
       "    <tr>\n",
       "      <th>2</th>\n",
       "      <td>1930</td>\n",
       "      <td>-0.2512</td>\n",
       "    </tr>\n",
       "    <tr>\n",
       "      <th>3</th>\n",
       "      <td>1931</td>\n",
       "      <td>-0.4384</td>\n",
       "    </tr>\n",
       "    <tr>\n",
       "      <th>4</th>\n",
       "      <td>1932</td>\n",
       "      <td>-0.0864</td>\n",
       "    </tr>\n",
       "  </tbody>\n",
       "</table>\n",
       "</div>"
      ],
      "text/plain": [
       "   Year  Stocks\n",
       "0  1928  0.4381\n",
       "1  1929  -0.083\n",
       "2  1930 -0.2512\n",
       "3  1931 -0.4384\n",
       "4  1932 -0.0864"
      ]
     },
     "execution_count": 34,
     "metadata": {},
     "output_type": "execute_result"
    }
   ],
   "source": [
    "subset.head()"
   ]
  },
  {
   "cell_type": "code",
   "execution_count": 35,
   "metadata": {},
   "outputs": [],
   "source": [
    "advsubset = df2.loc[df2['Year']==1930, ['T.Bills', 'T.Bonds']] # Using booleans to check"
   ]
  },
  {
   "cell_type": "code",
   "execution_count": 36,
   "metadata": {},
   "outputs": [
    {
     "data": {
      "text/html": [
       "<div>\n",
       "<style scoped>\n",
       "    .dataframe tbody tr th:only-of-type {\n",
       "        vertical-align: middle;\n",
       "    }\n",
       "\n",
       "    .dataframe tbody tr th {\n",
       "        vertical-align: top;\n",
       "    }\n",
       "\n",
       "    .dataframe thead th {\n",
       "        text-align: right;\n",
       "    }\n",
       "</style>\n",
       "<table border=\"1\" class=\"dataframe\">\n",
       "  <thead>\n",
       "    <tr style=\"text-align: right;\">\n",
       "      <th></th>\n",
       "      <th>T.Bills</th>\n",
       "      <th>T.Bonds</th>\n",
       "    </tr>\n",
       "  </thead>\n",
       "  <tbody>\n",
       "    <tr>\n",
       "      <th>2</th>\n",
       "      <td>0.0455</td>\n",
       "      <td>0.0454</td>\n",
       "    </tr>\n",
       "  </tbody>\n",
       "</table>\n",
       "</div>"
      ],
      "text/plain": [
       "  T.Bills T.Bonds\n",
       "2  0.0455  0.0454"
      ]
     },
     "execution_count": 36,
     "metadata": {},
     "output_type": "execute_result"
    }
   ],
   "source": [
    "advsubset"
   ]
  },
  {
   "cell_type": "code",
   "execution_count": 37,
   "metadata": {},
   "outputs": [
    {
     "data": {
      "text/plain": [
       "0     False\n",
       "1     False\n",
       "2      True\n",
       "3     False\n",
       "4     False\n",
       "      ...  \n",
       "79    False\n",
       "80    False\n",
       "81    False\n",
       "82    False\n",
       "83    False\n",
       "Name: Year, Length: 84, dtype: bool"
      ]
     },
     "execution_count": 37,
     "metadata": {},
     "output_type": "execute_result"
    }
   ],
   "source": [
    "df2['Year']==1930"
   ]
  },
  {
   "cell_type": "code",
   "execution_count": 38,
   "metadata": {},
   "outputs": [
    {
     "data": {
      "text/html": [
       "<div>\n",
       "<style scoped>\n",
       "    .dataframe tbody tr th:only-of-type {\n",
       "        vertical-align: middle;\n",
       "    }\n",
       "\n",
       "    .dataframe tbody tr th {\n",
       "        vertical-align: top;\n",
       "    }\n",
       "\n",
       "    .dataframe thead th {\n",
       "        text-align: right;\n",
       "    }\n",
       "</style>\n",
       "<table border=\"1\" class=\"dataframe\">\n",
       "  <thead>\n",
       "    <tr style=\"text-align: right;\">\n",
       "      <th></th>\n",
       "      <th>Year</th>\n",
       "      <th>Stocks</th>\n",
       "      <th>T.Bills</th>\n",
       "      <th>T.Bonds</th>\n",
       "    </tr>\n",
       "  </thead>\n",
       "  <tbody>\n",
       "    <tr>\n",
       "      <th>2</th>\n",
       "      <td>1930</td>\n",
       "      <td>-0.2512</td>\n",
       "      <td>0.0455</td>\n",
       "      <td>0.0454</td>\n",
       "    </tr>\n",
       "  </tbody>\n",
       "</table>\n",
       "</div>"
      ],
      "text/plain": [
       "   Year  Stocks T.Bills T.Bonds\n",
       "2  1930 -0.2512  0.0455  0.0454"
      ]
     },
     "execution_count": 38,
     "metadata": {},
     "output_type": "execute_result"
    }
   ],
   "source": [
    "df2[df2['Year']==1930] # Returns those rows where there is a True"
   ]
  },
  {
   "cell_type": "markdown",
   "metadata": {},
   "source": [
    "### Using Multiple Boolean Conditions"
   ]
  },
  {
   "cell_type": "code",
   "execution_count": 39,
   "metadata": {},
   "outputs": [
    {
     "data": {
      "text/html": [
       "<div>\n",
       "<style scoped>\n",
       "    .dataframe tbody tr th:only-of-type {\n",
       "        vertical-align: middle;\n",
       "    }\n",
       "\n",
       "    .dataframe tbody tr th {\n",
       "        vertical-align: top;\n",
       "    }\n",
       "\n",
       "    .dataframe thead th {\n",
       "        text-align: right;\n",
       "    }\n",
       "</style>\n",
       "<table border=\"1\" class=\"dataframe\">\n",
       "  <thead>\n",
       "    <tr style=\"text-align: right;\">\n",
       "      <th></th>\n",
       "      <th>Year</th>\n",
       "      <th>Stocks</th>\n",
       "      <th>T.Bills</th>\n",
       "      <th>T.Bonds</th>\n",
       "    </tr>\n",
       "  </thead>\n",
       "  <tbody>\n",
       "    <tr>\n",
       "      <th>1</th>\n",
       "      <td>1929</td>\n",
       "      <td>-0.083</td>\n",
       "      <td>0.0316</td>\n",
       "      <td>0.042</td>\n",
       "    </tr>\n",
       "  </tbody>\n",
       "</table>\n",
       "</div>"
      ],
      "text/plain": [
       "   Year Stocks T.Bills T.Bonds\n",
       "1  1929 -0.083  0.0316   0.042"
      ]
     },
     "execution_count": 39,
     "metadata": {},
     "output_type": "execute_result"
    }
   ],
   "source": [
    "df2[(df2['Year']==1929) & (df2['T.Bills'] == 0.0316)]"
   ]
  },
  {
   "cell_type": "code",
   "execution_count": 40,
   "metadata": {},
   "outputs": [
    {
     "data": {
      "text/html": [
       "<div>\n",
       "<style scoped>\n",
       "    .dataframe tbody tr th:only-of-type {\n",
       "        vertical-align: middle;\n",
       "    }\n",
       "\n",
       "    .dataframe tbody tr th {\n",
       "        vertical-align: top;\n",
       "    }\n",
       "\n",
       "    .dataframe thead th {\n",
       "        text-align: right;\n",
       "    }\n",
       "</style>\n",
       "<table border=\"1\" class=\"dataframe\">\n",
       "  <thead>\n",
       "    <tr style=\"text-align: right;\">\n",
       "      <th></th>\n",
       "      <th>Year</th>\n",
       "      <th>Stocks</th>\n",
       "      <th>T.Bills</th>\n",
       "      <th>T.Bonds</th>\n",
       "    </tr>\n",
       "  </thead>\n",
       "  <tbody>\n",
       "    <tr>\n",
       "      <th>1</th>\n",
       "      <td>1929</td>\n",
       "      <td>-0.083</td>\n",
       "      <td>0.0316</td>\n",
       "      <td>0.042</td>\n",
       "    </tr>\n",
       "    <tr>\n",
       "      <th>2</th>\n",
       "      <td>1930</td>\n",
       "      <td>-0.2512</td>\n",
       "      <td>0.0455</td>\n",
       "      <td>0.0454</td>\n",
       "    </tr>\n",
       "  </tbody>\n",
       "</table>\n",
       "</div>"
      ],
      "text/plain": [
       "   Year  Stocks T.Bills T.Bonds\n",
       "1  1929  -0.083  0.0316   0.042\n",
       "2  1930 -0.2512  0.0455  0.0454"
      ]
     },
     "execution_count": 40,
     "metadata": {},
     "output_type": "execute_result"
    }
   ],
   "source": [
    "df2[(df2['Year']==1930) | (df2['T.Bills'] == 0.0316)]"
   ]
  },
  {
   "cell_type": "markdown",
   "metadata": {},
   "source": [
    "### We use '&' and '|' over traditional python operators like 'and' and 'or' is because it does bitwise comparisons"
   ]
  }
 ],
 "metadata": {
  "kernelspec": {
   "display_name": "Python 3",
   "language": "python",
   "name": "python3"
  },
  "language_info": {
   "codemirror_mode": {
    "name": "ipython",
    "version": 3
   },
   "file_extension": ".py",
   "mimetype": "text/x-python",
   "name": "python",
   "nbconvert_exporter": "python",
   "pygments_lexer": "ipython3",
   "version": "3.8.5"
  }
 },
 "nbformat": 4,
 "nbformat_minor": 4
}
