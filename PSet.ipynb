{
 "cells": [
  {
   "cell_type": "markdown",
   "metadata": {},
   "source": [
    "### Challenges\n",
    "\n",
    "The challenges are designed to gain level with each subsequent challenge so we'll recommend doing them in order, also some are interlinked to each other"
   ]
  },
  {
   "cell_type": "markdown",
   "metadata": {},
   "source": [
    "Q1.\n",
    "There's a folder present in the same directory as this file if you performed the instructions carefully. There should be a csv, tsv and excel file in there. Try importing those and store them in df_csv, df_tsv & df_excel respectively."
   ]
  },
  {
   "cell_type": "code",
   "execution_count": null,
   "metadata": {},
   "outputs": [],
   "source": []
  },
  {
   "cell_type": "code",
   "execution_count": null,
   "metadata": {},
   "outputs": [],
   "source": []
  },
  {
   "cell_type": "code",
   "execution_count": null,
   "metadata": {},
   "outputs": [],
   "source": []
  },
  {
   "cell_type": "markdown",
   "metadata": {},
   "source": [
    "Q2. Try getting a general overview by picking any 1 of the data frames for all subsequent challenges. You can try with multiple ones totally up to you. Try finding the number of rows and columns, store them as a tuple in df_shape. Also find the number of NaN values in each column."
   ]
  },
  {
   "cell_type": "code",
   "execution_count": null,
   "metadata": {},
   "outputs": [],
   "source": []
  },
  {
   "cell_type": "code",
   "execution_count": null,
   "metadata": {},
   "outputs": [],
   "source": []
  },
  {
   "cell_type": "markdown",
   "metadata": {},
   "source": [
    "Q2. Try getting a general overview by picking any 1 of the data frames for all subsequent challenges. You can try with multiple ones totally up to you. Try finding the number of rows and columns, store them as a tuple in df_shape. Also find the number of NaN values in each column."
   ]
  },
  {
   "cell_type": "code",
   "execution_count": null,
   "metadata": {},
   "outputs": [],
   "source": []
  },
  {
   "cell_type": "code",
   "execution_count": null,
   "metadata": {},
   "outputs": [],
   "source": []
  },
  {
   "cell_type": "markdown",
   "metadata": {},
   "source": [
    "Q3. Import the airdata.csv file and find all the rows where NO2 level is greater than 15"
   ]
  },
  {
   "cell_type": "code",
   "execution_count": null,
   "metadata": {},
   "outputs": [],
   "source": []
  },
  {
   "cell_type": "markdown",
   "metadata": {},
   "source": [
    "Q4. In the airdata.csv data frame find all the rows where NO2 level is greater than 15 and SO2 level is less than 5"
   ]
  },
  {
   "cell_type": "code",
   "execution_count": null,
   "metadata": {},
   "outputs": [],
   "source": []
  },
  {
   "cell_type": "markdown",
   "metadata": {},
   "source": [
    "Q5. In the airdata.csv data frame select the column with title rspm and replace all values which have NA inside to np.NaN \n",
    "\n",
    "You're highly encouraged to Google Search and look for ways yourself as that is an essential skill but if you don't find anything you can have a look here - https://stackoverflow.com/questions/29247712/how-to-replace-a-value-in-pandas-with-nan\n",
    "\n",
    "You will need to import numpy and alias it, read up here to learn how to do that - https://www.w3schools.com/python/numpy_getting_started.asp\n",
    "\n",
    "To learn more about NaN values visit here - https://www.askpython.com/python/examples/nan-in-numpy-and-pandas#:~:text=It%20is%20used%20to%20represent,754)%20introduced%20NaN%20in%201985."
   ]
  },
  {
   "cell_type": "code",
   "execution_count": null,
   "metadata": {},
   "outputs": [],
   "source": []
  },
  {
   "cell_type": "code",
   "execution_count": null,
   "metadata": {},
   "outputs": [],
   "source": []
  },
  {
   "cell_type": "markdown",
   "metadata": {},
   "source": [
    "Q6. On some inspection it seems the Date column is useless as all entries are invalid, try looking for ways to remove the column itself. There can be multiple ways to do this and you are highly encouraged to find this yourself however some ways listed here https://stackoverflow.com/questions/13411544/delete-column-from-pandas-dataframe"
   ]
  },
  {
   "cell_type": "code",
   "execution_count": null,
   "metadata": {},
   "outputs": [],
   "source": []
  },
  {
   "cell_type": "code",
   "execution_count": null,
   "metadata": {},
   "outputs": [],
   "source": []
  },
  {
   "cell_type": "markdown",
   "metadata": {},
   "source": [
    "Q7. Prof. Sheldon wants to do some analysis but he doesn't know how to remove rows so obviously he turns to an engineer for the grunt work. His evaluation requires the location_monitoring_station to be there and all other rows which have no location_monitoring_station are useless. Go through the data and remove all the rows with no value for the location_monitoring_station\n",
    "\n",
    "Again you're highly encouraged to search for ways youself but if you can't find any don't worry we've got your back - https://stackoverflow.com/questions/13851535/how-to-delete-rows-from-a-pandas-dataframe-based-on-a-conditional-expression"
   ]
  },
  {
   "cell_type": "code",
   "execution_count": null,
   "metadata": {},
   "outputs": [],
   "source": []
  },
  {
   "cell_type": "code",
   "execution_count": null,
   "metadata": {},
   "outputs": [],
   "source": []
  },
  {
   "cell_type": "markdown",
   "metadata": {},
   "source": [
    "Q8. Penny came along and looked at the type column in the file she didn't scroll down and claimed there are only 2 type of locations residential and industrial. Check if her claims are true or not. Penny even betted against Sheldon that there are going to be more Residential ones, check if she won the Vintage Captain Proton DVD (which she totally wants) from Sheldon's prized collection."
   ]
  },
  {
   "cell_type": "code",
   "execution_count": null,
   "metadata": {},
   "outputs": [],
   "source": []
  },
  {
   "cell_type": "code",
   "execution_count": null,
   "metadata": {},
   "outputs": [],
   "source": []
  },
  {
   "attachments": {},
   "cell_type": "markdown",
   "metadata": {},
   "source": [
    "Q9. Sheldon's favourite number is 73 because \"Its mirror, 37, is the 12th and its mirror, 21, is the product of multiplying 7 and 3 ... and in binary 73 is a palindrome, 1001001, which backwards is 1001001.\" Weird fact right, well you don't really need that turns out Sheldon is in the mood for fun and wants only those entries where the stn_code is a multiple of 73. Beware we haven't really cleaned this column so you might be in for a treat"
   ]
  },
  {
   "cell_type": "code",
   "execution_count": null,
   "metadata": {},
   "outputs": [],
   "source": []
  },
  {
   "cell_type": "code",
   "execution_count": null,
   "metadata": {},
   "outputs": [],
   "source": []
  },
  {
   "cell_type": "code",
   "execution_count": null,
   "metadata": {},
   "outputs": [],
   "source": []
  },
  {
   "cell_type": "markdown",
   "metadata": {},
   "source": [
    "Q10. Congratulations on making it here, hopefully this is the last question. This time Dr. House broke into Sheldon's lab (he could've asked for permisson but that wouldn't suit his personality would it?). He has a patient with amnesia but due to his fingerprint he has been traced to a couple of people in India, due to lack of access to records he doesn't know which one is he so he wants to check them all. He can either be from Hyderabad, Cuttak or Madurai. Now Dr. House has a hunch (those are true quite often) and he feels he has some rare disease Y which is caused by over exposure to SO2 and NO2. Try to help Dr. House by finding all the places which fit the criteria. High exposure to SO2 means over 10  "
   ]
  }
 ],
 "metadata": {
  "kernelspec": {
   "display_name": "Python 3",
   "language": "python",
   "name": "python3"
  },
  "language_info": {
   "codemirror_mode": {
    "name": "ipython",
    "version": 3
   },
   "file_extension": ".py",
   "mimetype": "text/x-python",
   "name": "python",
   "nbconvert_exporter": "python",
   "pygments_lexer": "ipython3",
   "version": "3.8.5"
  }
 },
 "nbformat": 4,
 "nbformat_minor": 4
}
